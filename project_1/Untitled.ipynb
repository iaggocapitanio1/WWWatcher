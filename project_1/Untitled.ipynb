{
 "cells": [
  {
   "cell_type": "code",
   "execution_count": 1,
   "id": "4b3342cd",
   "metadata": {},
   "outputs": [],
   "source": [
    "import pandas \n",
    "book_name = \"LISTA_DE_CORTE_MC_MUEBLETV_A.xlsx\""
   ]
  },
  {
   "cell_type": "code",
   "execution_count": 2,
   "id": "b59ddb60",
   "metadata": {},
   "outputs": [
    {
     "data": {
      "text/html": [
       "<div>\n",
       "<style scoped>\n",
       "    .dataframe tbody tr th:only-of-type {\n",
       "        vertical-align: middle;\n",
       "    }\n",
       "\n",
       "    .dataframe tbody tr th {\n",
       "        vertical-align: top;\n",
       "    }\n",
       "\n",
       "    .dataframe thead th {\n",
       "        text-align: right;\n",
       "    }\n",
       "</style>\n",
       "<table border=\"1\" class=\"dataframe\">\n",
       "  <thead>\n",
       "    <tr style=\"text-align: right;\">\n",
       "      <th></th>\n",
       "      <th>Ref PEÇA (A)</th>\n",
       "      <th>Tipo (B)</th>\n",
       "      <th>Material (C)</th>\n",
       "      <th>QTD (D)</th>\n",
       "      <th>Observações (E)</th>\n",
       "    </tr>\n",
       "  </thead>\n",
       "  <tbody>\n",
       "    <tr>\n",
       "      <th>0</th>\n",
       "      <td>DOB_Markant11</td>\n",
       "      <td>Acessório</td>\n",
       "      <td>Material &lt;not specified&gt;</td>\n",
       "      <td>2</td>\n",
       "      <td>NaN</td>\n",
       "    </tr>\n",
       "    <tr>\n",
       "      <th>1</th>\n",
       "      <td>Corrediça_Quadro_CalhaE</td>\n",
       "      <td>Acessório</td>\n",
       "      <td>NaN</td>\n",
       "      <td>2</td>\n",
       "      <td>NaN</td>\n",
       "    </tr>\n",
       "    <tr>\n",
       "      <th>2</th>\n",
       "      <td>Corrediça_Quadro_CalhaD</td>\n",
       "      <td>Acessório</td>\n",
       "      <td>Corrdiça350 V6 30Kg</td>\n",
       "      <td>2</td>\n",
       "      <td>NaN</td>\n",
       "    </tr>\n",
       "  </tbody>\n",
       "</table>\n",
       "</div>"
      ],
      "text/plain": [
       "              Ref PEÇA (A)   Tipo (B)              Material (C)  QTD (D)  \\\n",
       "0            DOB_Markant11  Acessório  Material <not specified>        2   \n",
       "1  Corrediça_Quadro_CalhaE  Acessório                       NaN        2   \n",
       "2  Corrediça_Quadro_CalhaD  Acessório       Corrdiça350 V6 30Kg        2   \n",
       "\n",
       "   Observações (E)  \n",
       "0              NaN  \n",
       "1              NaN  \n",
       "2              NaN  "
      ]
     },
     "execution_count": 2,
     "metadata": {},
     "output_type": "execute_result"
    }
   ],
   "source": [
    "df = pandas.read_excel(book_name, sheet_name=7)\n",
    "df"
   ]
  },
  {
   "cell_type": "code",
   "execution_count": 3,
   "id": "26ca152a",
   "metadata": {},
   "outputs": [
    {
     "data": {
      "text/html": [
       "<div>\n",
       "<style scoped>\n",
       "    .dataframe tbody tr th:only-of-type {\n",
       "        vertical-align: middle;\n",
       "    }\n",
       "\n",
       "    .dataframe tbody tr th {\n",
       "        vertical-align: top;\n",
       "    }\n",
       "\n",
       "    .dataframe thead th {\n",
       "        text-align: right;\n",
       "    }\n",
       "</style>\n",
       "<table border=\"1\" class=\"dataframe\">\n",
       "  <thead>\n",
       "    <tr style=\"text-align: right;\">\n",
       "      <th></th>\n",
       "      <th>Ref PEÇA (A)</th>\n",
       "      <th>Tipo (B)</th>\n",
       "      <th>Material (C)</th>\n",
       "      <th>QTD (D)</th>\n",
       "      <th>Observações (E)</th>\n",
       "    </tr>\n",
       "  </thead>\n",
       "  <tbody>\n",
       "    <tr>\n",
       "      <th>0</th>\n",
       "      <td>DOB_Markant11</td>\n",
       "      <td>Acessório</td>\n",
       "      <td>Material &lt;not specified&gt;</td>\n",
       "      <td>2</td>\n",
       "      <td>NaN</td>\n",
       "    </tr>\n",
       "    <tr>\n",
       "      <th>1</th>\n",
       "      <td>Corrediça_Quadro_CalhaE</td>\n",
       "      <td>Acessório</td>\n",
       "      <td>NaN</td>\n",
       "      <td>2</td>\n",
       "      <td>NaN</td>\n",
       "    </tr>\n",
       "    <tr>\n",
       "      <th>2</th>\n",
       "      <td>Corrediça_Quadro_CalhaD</td>\n",
       "      <td>Acessório</td>\n",
       "      <td>Corrdiça350 V6 30Kg</td>\n",
       "      <td>2</td>\n",
       "      <td>NaN</td>\n",
       "    </tr>\n",
       "  </tbody>\n",
       "</table>\n",
       "</div>"
      ],
      "text/plain": [
       "              Ref PEÇA (A)   Tipo (B)              Material (C)  QTD (D)  \\\n",
       "0            DOB_Markant11  Acessório  Material <not specified>        2   \n",
       "1  Corrediça_Quadro_CalhaE  Acessório                       NaN        2   \n",
       "2  Corrediça_Quadro_CalhaD  Acessório       Corrdiça350 V6 30Kg        2   \n",
       "\n",
       "   Observações (E)  \n",
       "0              NaN  \n",
       "1              NaN  \n",
       "2              NaN  "
      ]
     },
     "execution_count": 3,
     "metadata": {},
     "output_type": "execute_result"
    }
   ],
   "source": [
    "pandas.read_excel(book_name, sheet_name=\"DATA - Acessorios\")"
   ]
  },
  {
   "cell_type": "code",
   "execution_count": 7,
   "id": "059746ec",
   "metadata": {},
   "outputs": [],
   "source": [
    "from typing import List, Dict\n",
    "class A:\n",
    "    def __init__(self):\n",
    "        self.context='sou context'\n",
    "        self.headers = 'sou headers'\n",
    "    \n",
    "    @property\n",
    "    def context(self) -> List[str]:\n",
    "        return self._context\n",
    "\n",
    "    @context.setter\n",
    "    def context(self, context: List[str]) -> None:\n",
    "        self._context = context\n",
    "\n",
    "    @property\n",
    "    def headers(self) -> Dict[str, str]:\n",
    "        return self._headers\n",
    "\n",
    "    @headers.setter\n",
    "    def headers(self, headers: Dict[str, str]) -> None:\n",
    "        self._headers = headers"
   ]
  },
  {
   "cell_type": "code",
   "execution_count": null,
   "id": "8816cf6c",
   "metadata": {},
   "outputs": [],
   "source": []
  }
 ],
 "metadata": {
  "kernelspec": {
   "display_name": "Python 3 (ipykernel)",
   "language": "python",
   "name": "python3"
  },
  "language_info": {
   "codemirror_mode": {
    "name": "ipython",
    "version": 3
   },
   "file_extension": ".py",
   "mimetype": "text/x-python",
   "name": "python",
   "nbconvert_exporter": "python",
   "pygments_lexer": "ipython3",
   "version": "3.9.13"
  }
 },
 "nbformat": 4,
 "nbformat_minor": 5
}
